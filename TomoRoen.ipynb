{
  "nbformat": 4,
  "nbformat_minor": 0,
  "metadata": {
    "colab": {
      "provenance": []
    },
    "kernelspec": {
      "name": "python3",
      "display_name": "Python 3"
    },
    "language_info": {
      "name": "python"
    }
  },
  "cells": [
    {
      "cell_type": "code",
      "source": [
        "!pip install spekpy\n",
        "#!pip install git+https://github.com/lynntf/nist-calculators.git\n",
        "!pip install git+https://github.com/Zelenyy/nist-calculators.git"
      ],
      "metadata": {
        "id": "mzWFIJiCWYl2",
        "colab": {
          "base_uri": "https://localhost:8080/"
        },
        "outputId": "16ebe102-5614-4342-a8b0-23aa82f7ccc7"
      },
      "execution_count": 2,
      "outputs": [
        {
          "output_type": "stream",
          "name": "stdout",
          "text": [
            "Collecting spekpy\n",
            "  Downloading spekpy-2.0.11.1-py3-none-any.whl (82.9 MB)\n",
            "\u001b[2K     \u001b[90m━━━━━━━━━━━━━━━━━━━━━━━━━━━━━━━━━━━━━━━━\u001b[0m \u001b[32m82.9/82.9 MB\u001b[0m \u001b[31m8.5 MB/s\u001b[0m eta \u001b[36m0:00:00\u001b[0m\n",
            "\u001b[?25hRequirement already satisfied: matplotlib in /usr/local/lib/python3.10/dist-packages (from spekpy) (3.7.1)\n",
            "Requirement already satisfied: scipy in /usr/local/lib/python3.10/dist-packages (from spekpy) (1.11.4)\n",
            "Requirement already satisfied: contourpy>=1.0.1 in /usr/local/lib/python3.10/dist-packages (from matplotlib->spekpy) (1.2.1)\n",
            "Requirement already satisfied: cycler>=0.10 in /usr/local/lib/python3.10/dist-packages (from matplotlib->spekpy) (0.12.1)\n",
            "Requirement already satisfied: fonttools>=4.22.0 in /usr/local/lib/python3.10/dist-packages (from matplotlib->spekpy) (4.52.4)\n",
            "Requirement already satisfied: kiwisolver>=1.0.1 in /usr/local/lib/python3.10/dist-packages (from matplotlib->spekpy) (1.4.5)\n",
            "Requirement already satisfied: numpy>=1.20 in /usr/local/lib/python3.10/dist-packages (from matplotlib->spekpy) (1.25.2)\n",
            "Requirement already satisfied: packaging>=20.0 in /usr/local/lib/python3.10/dist-packages (from matplotlib->spekpy) (24.0)\n",
            "Requirement already satisfied: pillow>=6.2.0 in /usr/local/lib/python3.10/dist-packages (from matplotlib->spekpy) (9.4.0)\n",
            "Requirement already satisfied: pyparsing>=2.3.1 in /usr/local/lib/python3.10/dist-packages (from matplotlib->spekpy) (3.1.2)\n",
            "Requirement already satisfied: python-dateutil>=2.7 in /usr/local/lib/python3.10/dist-packages (from matplotlib->spekpy) (2.8.2)\n",
            "Requirement already satisfied: six>=1.5 in /usr/local/lib/python3.10/dist-packages (from python-dateutil>=2.7->matplotlib->spekpy) (1.16.0)\n",
            "Installing collected packages: spekpy\n",
            "Successfully installed spekpy-2.0.11.1\n",
            "Collecting git+https://github.com/Zelenyy/nist-calculators.git\n",
            "  Cloning https://github.com/Zelenyy/nist-calculators.git to /tmp/pip-req-build-rjfc7xmh\n",
            "  Running command git clone --filter=blob:none --quiet https://github.com/Zelenyy/nist-calculators.git /tmp/pip-req-build-rjfc7xmh\n",
            "  Resolved https://github.com/Zelenyy/nist-calculators.git to commit 9ef103806172590f87498a7d663e9925c39f9dc4\n",
            "  Preparing metadata (setup.py) ... \u001b[?25l\u001b[?25hdone\n",
            "Requirement already satisfied: numpy>=1.8.2 in /usr/local/lib/python3.10/dist-packages (from nist-calculators==0.0.5) (1.25.2)\n",
            "Requirement already satisfied: scipy>=1.3.1 in /usr/local/lib/python3.10/dist-packages (from nist-calculators==0.0.5) (1.11.4)\n",
            "Requirement already satisfied: tables>=3.5.1 in /usr/local/lib/python3.10/dist-packages (from nist-calculators==0.0.5) (3.8.0)\n",
            "Requirement already satisfied: cython>=0.29.21 in /usr/local/lib/python3.10/dist-packages (from tables>=3.5.1->nist-calculators==0.0.5) (3.0.10)\n",
            "Requirement already satisfied: numexpr>=2.6.2 in /usr/local/lib/python3.10/dist-packages (from tables>=3.5.1->nist-calculators==0.0.5) (2.10.0)\n",
            "Requirement already satisfied: blosc2~=2.0.0 in /usr/local/lib/python3.10/dist-packages (from tables>=3.5.1->nist-calculators==0.0.5) (2.0.0)\n",
            "Requirement already satisfied: packaging in /usr/local/lib/python3.10/dist-packages (from tables>=3.5.1->nist-calculators==0.0.5) (24.0)\n",
            "Requirement already satisfied: py-cpuinfo in /usr/local/lib/python3.10/dist-packages (from tables>=3.5.1->nist-calculators==0.0.5) (9.0.0)\n",
            "Requirement already satisfied: msgpack in /usr/local/lib/python3.10/dist-packages (from blosc2~=2.0.0->tables>=3.5.1->nist-calculators==0.0.5) (1.0.8)\n",
            "Building wheels for collected packages: nist-calculators\n",
            "  Building wheel for nist-calculators (setup.py) ... \u001b[?25l\u001b[?25hdone\n",
            "  Created wheel for nist-calculators: filename=nist_calculators-0.0.5-py3-none-any.whl size=1272342 sha256=5e7594a068a479060ef9ef72833dd4748159393299fb211a1412a4408808b3b9\n",
            "  Stored in directory: /tmp/pip-ephem-wheel-cache-tmaq8v8p/wheels/2a/c8/8b/b45c6a913d820a59ab8a93015b9a58138d939eab16fd4351de\n",
            "Successfully built nist-calculators\n",
            "Installing collected packages: nist-calculators\n",
            "Successfully installed nist-calculators-0.0.5\n"
          ]
        }
      ]
    },
    {
      "cell_type": "code",
      "source": [
        "import matplotlib.pyplot as plt\n",
        "import numpy as np\n",
        "\n",
        "import spekpy as sp\n",
        "\n",
        "import xcom"
      ],
      "metadata": {
        "collapsed": true,
        "id": "lftmx5_IW_kw"
      },
      "execution_count": 3,
      "outputs": []
    },
    {
      "cell_type": "code",
      "source": [
        "import requests\n",
        "file_url = \"https://github.com/lynntf/nist-calculators/blob/master/xcom/data/PeriodicTableofElements.csv\"\n",
        "\n",
        "r = requests.get(file_url, stream = True)\n",
        "\n",
        "with open(\"/usr/local/lib/python3.10/dist-packages/xcom/data/PeriodicTableofElements.csv\", \"wb\") as file:\n",
        "    for block in r.iter_content(chunk_size = 1024):\n",
        "         if block:\n",
        "             file.write(block)\n"
      ],
      "metadata": {
        "id": "9NWJNzi3XRa0"
      },
      "execution_count": null,
      "outputs": []
    },
    {
      "cell_type": "code",
      "source": [
        "energy  =np.array([])\n",
        "rg = np.array([])\n",
        "mu = np.array([])"
      ],
      "metadata": {
        "id": "WojafvVaWoOm"
      },
      "execution_count": 4,
      "outputs": []
    },
    {
      "cell_type": "code",
      "source": [
        "def Att():\n",
        "  ## Roentgen\n",
        "  s = sp.Spek(kvp=float(kvp),targ='W',th=39, dk = 0.5) # Create a spectrum\n",
        "  s.filter('Cu',float(h_Cu)) # Thickness of material in mm\n",
        "  s.filter('Al',float(h_Al)) # Thickness of material in mm\n",
        "  k, f = s.get_spectrum(edges=True) # Get the spectrum\n",
        "  global energy\n",
        "  global rg\n",
        "  global mu\n",
        "  material = xcom.MaterialFactory.from_formula(mat_name)\n",
        "\n",
        "  #data_water = xcom.calculate_attenuation(material)\n",
        "  for i in range(len(k)-1):\n",
        "      if k[i]!=k[i+1]:\n",
        "          energy = np.append(energy,k[i]*1000)\n",
        "          rg = np.append(rg, f[i])\n",
        "          mu = np.append(mu,xcom.calculate_attenuation(material, [energy[-1]])['total'])\n",
        "  rg = rg/sum(rg)\n",
        "  mu = mu\n",
        "\n",
        "  sh = 100*np.sum(rg*np.exp(-mu*D*float(rhob)/10))\n",
        "  return (f'Level = {sh:.1f} %')\n",
        "\n",
        "\n"
      ],
      "metadata": {
        "id": "3frjYGDZgFRS"
      },
      "execution_count": 5,
      "outputs": []
    },
    {
      "cell_type": "code",
      "source": [
        "#@title Params {run: \"auto\"}\n",
        "kvp = \"140\" #@param [10,20,30,40,50,60,70,80,90,100,110,120,130,140,150]\n",
        "h_Cu = \"0.15\" #@param [0.0, 0.05, 0.1, 0.15, 0.2, 0.25, 0.3]\n",
        "h_Al = \"0.3\" #@param [0.0, 0.1, 0.2, 0.3, 0.4, 0.5]\n",
        "mat_name = 'CaCO3' #@param ['SiO2', 'CaCO3']\n",
        "rhob = \"2.3\" #@param [1.9, 2.0, 2.1,2.2, 2.3, 2.4, 2.5, 2.6, 2.7, 2.8, 2.9,3.0]\n",
        "D = 115 # @param {type:\"number\"}\n",
        "print(Att())"
      ],
      "metadata": {
        "colab": {
          "base_uri": "https://localhost:8080/",
          "height": 333
        },
        "id": "xDsFBmSgYj6n",
        "outputId": "ba639f68-8e48-47a9-bb06-072c87845372",
        "cellView": "form"
      },
      "execution_count": 6,
      "outputs": [
        {
          "output_type": "error",
          "ename": "FileNotFoundError",
          "evalue": "[Errno 2] No such file or directory: '/usr/local/lib/python3.10/dist-packages/xcom/data/PeriodicTableofElements.csv'",
          "traceback": [
            "\u001b[0;31m---------------------------------------------------------------------------\u001b[0m",
            "\u001b[0;31mFileNotFoundError\u001b[0m                         Traceback (most recent call last)",
            "\u001b[0;32m<ipython-input-6-4f8d90c2aae6>\u001b[0m in \u001b[0;36m<cell line: 8>\u001b[0;34m()\u001b[0m\n\u001b[1;32m      6\u001b[0m \u001b[0mrhob\u001b[0m \u001b[0;34m=\u001b[0m \u001b[0;34m\"2.3\"\u001b[0m \u001b[0;31m#@param [1.9, 2.0, 2.1,2.2, 2.3, 2.4, 2.5, 2.6, 2.7, 2.8, 2.9,3.0]\u001b[0m\u001b[0;34m\u001b[0m\u001b[0;34m\u001b[0m\u001b[0m\n\u001b[1;32m      7\u001b[0m \u001b[0mD\u001b[0m \u001b[0;34m=\u001b[0m \u001b[0;36m115\u001b[0m \u001b[0;31m# @param {type:\"number\"}\u001b[0m\u001b[0;34m\u001b[0m\u001b[0;34m\u001b[0m\u001b[0m\n\u001b[0;32m----> 8\u001b[0;31m \u001b[0mprint\u001b[0m\u001b[0;34m(\u001b[0m\u001b[0mAtt\u001b[0m\u001b[0;34m(\u001b[0m\u001b[0;34m)\u001b[0m\u001b[0;34m)\u001b[0m\u001b[0;34m\u001b[0m\u001b[0;34m\u001b[0m\u001b[0m\n\u001b[0m",
            "\u001b[0;32m<ipython-input-5-4cb558fe46b1>\u001b[0m in \u001b[0;36mAtt\u001b[0;34m()\u001b[0m\n\u001b[1;32m      8\u001b[0m   \u001b[0;32mglobal\u001b[0m \u001b[0mrg\u001b[0m\u001b[0;34m\u001b[0m\u001b[0;34m\u001b[0m\u001b[0m\n\u001b[1;32m      9\u001b[0m   \u001b[0;32mglobal\u001b[0m \u001b[0mmu\u001b[0m\u001b[0;34m\u001b[0m\u001b[0;34m\u001b[0m\u001b[0m\n\u001b[0;32m---> 10\u001b[0;31m   \u001b[0mmaterial\u001b[0m \u001b[0;34m=\u001b[0m \u001b[0mxcom\u001b[0m\u001b[0;34m.\u001b[0m\u001b[0mMaterialFactory\u001b[0m\u001b[0;34m.\u001b[0m\u001b[0mfrom_formula\u001b[0m\u001b[0;34m(\u001b[0m\u001b[0mmat_name\u001b[0m\u001b[0;34m)\u001b[0m\u001b[0;34m\u001b[0m\u001b[0;34m\u001b[0m\u001b[0m\n\u001b[0m\u001b[1;32m     11\u001b[0m \u001b[0;34m\u001b[0m\u001b[0m\n\u001b[1;32m     12\u001b[0m   \u001b[0;31m#data_water = xcom.calculate_attenuation(material)\u001b[0m\u001b[0;34m\u001b[0m\u001b[0;34m\u001b[0m\u001b[0m\n",
            "\u001b[0;32m/usr/local/lib/python3.10/dist-packages/xcom/interpolators.py\u001b[0m in \u001b[0;36mfrom_formula\u001b[0;34m(cls, formula)\u001b[0m\n\u001b[1;32m    125\u001b[0m         \u001b[0melements\u001b[0m \u001b[0;34m=\u001b[0m \u001b[0;34m[\u001b[0m\u001b[0;34m]\u001b[0m\u001b[0;34m\u001b[0m\u001b[0;34m\u001b[0m\u001b[0m\n\u001b[1;32m    126\u001b[0m         \u001b[0;32mfor\u001b[0m \u001b[0mname\u001b[0m \u001b[0;32min\u001b[0m \u001b[0mname_list\u001b[0m\u001b[0;34m:\u001b[0m\u001b[0;34m\u001b[0m\u001b[0;34m\u001b[0m\u001b[0m\n\u001b[0;32m--> 127\u001b[0;31m             \u001b[0melements\u001b[0m\u001b[0;34m.\u001b[0m\u001b[0mappend\u001b[0m\u001b[0;34m(\u001b[0m\u001b[0mMaterialFactory\u001b[0m\u001b[0;34m.\u001b[0m\u001b[0mget_element_from_symbol\u001b[0m\u001b[0;34m(\u001b[0m\u001b[0mname\u001b[0m\u001b[0;34m)\u001b[0m\u001b[0;34m)\u001b[0m\u001b[0;34m\u001b[0m\u001b[0;34m\u001b[0m\u001b[0m\n\u001b[0m\u001b[1;32m    128\u001b[0m         \u001b[0matomic_mass\u001b[0m \u001b[0;34m=\u001b[0m \u001b[0mMaterialFactory\u001b[0m\u001b[0;34m.\u001b[0m\u001b[0mget_elements_mass_list\u001b[0m\u001b[0;34m(\u001b[0m\u001b[0melements\u001b[0m\u001b[0;34m)\u001b[0m\u001b[0;34m\u001b[0m\u001b[0;34m\u001b[0m\u001b[0m\n\u001b[1;32m    129\u001b[0m \u001b[0;34m\u001b[0m\u001b[0m\n",
            "\u001b[0;32m/usr/local/lib/python3.10/dist-packages/xcom/interpolators.py\u001b[0m in \u001b[0;36mget_element_from_symbol\u001b[0;34m(cls, element)\u001b[0m\n\u001b[1;32m    149\u001b[0m         \"\"\"\n\u001b[1;32m    150\u001b[0m         \u001b[0;32mif\u001b[0m \u001b[0mcls\u001b[0m\u001b[0;34m.\u001b[0m\u001b[0melement_symbols\u001b[0m \u001b[0;32mis\u001b[0m \u001b[0;32mNone\u001b[0m\u001b[0;34m:\u001b[0m\u001b[0;34m\u001b[0m\u001b[0;34m\u001b[0m\u001b[0m\n\u001b[0;32m--> 151\u001b[0;31m             \u001b[0mcls\u001b[0m\u001b[0;34m.\u001b[0m\u001b[0m_prepare_element_symbol\u001b[0m\u001b[0;34m(\u001b[0m\u001b[0;34m)\u001b[0m\u001b[0;34m\u001b[0m\u001b[0;34m\u001b[0m\u001b[0m\n\u001b[0m\u001b[1;32m    152\u001b[0m         \u001b[0;32mreturn\u001b[0m \u001b[0mcls\u001b[0m\u001b[0;34m.\u001b[0m\u001b[0melement_symbols\u001b[0m\u001b[0;34m[\u001b[0m\u001b[0melement\u001b[0m\u001b[0;34m]\u001b[0m\u001b[0;34m\u001b[0m\u001b[0;34m\u001b[0m\u001b[0m\n\u001b[1;32m    153\u001b[0m \u001b[0;34m\u001b[0m\u001b[0m\n",
            "\u001b[0;32m/usr/local/lib/python3.10/dist-packages/xcom/interpolators.py\u001b[0m in \u001b[0;36m_prepare_element_symbol\u001b[0;34m(cls)\u001b[0m\n\u001b[1;32m    136\u001b[0m     \u001b[0;32mdef\u001b[0m \u001b[0m_prepare_element_symbol\u001b[0m\u001b[0;34m(\u001b[0m\u001b[0mcls\u001b[0m\u001b[0;34m)\u001b[0m\u001b[0;34m:\u001b[0m\u001b[0;34m\u001b[0m\u001b[0;34m\u001b[0m\u001b[0m\n\u001b[1;32m    137\u001b[0m         \u001b[0mcls\u001b[0m\u001b[0;34m.\u001b[0m\u001b[0melement_symbols\u001b[0m \u001b[0;34m=\u001b[0m \u001b[0;34m{\u001b[0m\u001b[0;34m}\u001b[0m\u001b[0;34m\u001b[0m\u001b[0;34m\u001b[0m\u001b[0m\n\u001b[0;32m--> 138\u001b[0;31m         \u001b[0;32mwith\u001b[0m \u001b[0mopen\u001b[0m\u001b[0;34m(\u001b[0m\u001b[0mPERIODIC_TABLE_PATH\u001b[0m\u001b[0;34m,\u001b[0m \u001b[0mnewline\u001b[0m\u001b[0;34m=\u001b[0m\u001b[0;34m''\u001b[0m\u001b[0;34m)\u001b[0m \u001b[0;32mas\u001b[0m \u001b[0mcsvfile\u001b[0m\u001b[0;34m:\u001b[0m\u001b[0;34m\u001b[0m\u001b[0;34m\u001b[0m\u001b[0m\n\u001b[0m\u001b[1;32m    139\u001b[0m             \u001b[0mreader\u001b[0m \u001b[0;34m=\u001b[0m \u001b[0mcsv\u001b[0m\u001b[0;34m.\u001b[0m\u001b[0mreader\u001b[0m\u001b[0;34m(\u001b[0m\u001b[0mcsvfile\u001b[0m\u001b[0;34m,\u001b[0m \u001b[0mdelimiter\u001b[0m\u001b[0;34m=\u001b[0m\u001b[0;34m\",\"\u001b[0m\u001b[0;34m)\u001b[0m\u001b[0;34m\u001b[0m\u001b[0;34m\u001b[0m\u001b[0m\n\u001b[1;32m    140\u001b[0m             \u001b[0mnext\u001b[0m\u001b[0;34m(\u001b[0m\u001b[0mreader\u001b[0m\u001b[0;34m)\u001b[0m\u001b[0;34m\u001b[0m\u001b[0;34m\u001b[0m\u001b[0m\n",
            "\u001b[0;31mFileNotFoundError\u001b[0m: [Errno 2] No such file or directory: '/usr/local/lib/python3.10/dist-packages/xcom/data/PeriodicTableofElements.csv'"
          ]
        }
      ]
    },
    {
      "cell_type": "code",
      "source": [
        "# Plot the images\n",
        "fig, ax = plt.subplots(2, 1, figsize=(10, 5))\n",
        "\n",
        "#plot mu\n",
        "ax[0].semilogy(energy/1000,mu)\n",
        "ax[0].grid(True)\n",
        "ax[0].set_title(\"mu\")\n",
        "ax[0].set_xlabel('Energy [keV]')\n",
        "ax[0].set_ylabel('mu [mm^-1]')\n",
        "\n",
        "#PLot spectrum\n",
        "ax[1].plot(energy/1000, rg)\n",
        "ax[1].set_xlabel('Energy [keV]')\n",
        "ax[1].set_ylabel('[photons]')\n",
        "ax[1].set_title('X-ray spectrum')\n",
        "\n",
        "fig.tight_layout()\n",
        "\n"
      ],
      "metadata": {
        "id": "YCvmw3NcN5mJ",
        "colab": {
          "base_uri": "https://localhost:8080/",
          "height": 507
        },
        "outputId": "cdd889c5-4084-40d4-ddd9-d82e52a326bd"
      },
      "execution_count": null,
      "outputs": [
        {
          "output_type": "display_data",
          "data": {
            "text/plain": [
              "<Figure size 1000x500 with 2 Axes>"
            ],
            "image/png": "[encoded data removed]"
          },
          "metadata": {}
        }
      ]
    }
  ]
}